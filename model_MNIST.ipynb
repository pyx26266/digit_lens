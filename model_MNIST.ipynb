{
  "nbformat": 4,
  "nbformat_minor": 0,
  "metadata": {
    "colab": {
      "name": "MNIST_lens.ipynb",
      "version": "0.3.2",
      "views": {},
      "default_view": {},
      "provenance": []
    },
    "kernelspec": {
      "name": "python3",
      "display_name": "Python 3"
    },
    "accelerator": "GPU"
  },
  "cells": [
    {
      "metadata": {
        "id": "zjoBEyveJCrq",
        "colab_type": "code",
        "colab": {
          "autoexec": {
            "startup": false,
            "wait_interval": 0
          },
          "base_uri": "https://localhost:8080/",
          "height": 139
        },
        "outputId": "ec088f77-f0da-42ad-b6a2-880d60a570b8",
        "executionInfo": {
          "status": "ok",
          "timestamp": 1529091529585,
          "user_tz": -330,
          "elapsed": 12704,
          "user": {
            "displayName": "Aman Kumar",
            "photoUrl": "//lh4.googleusercontent.com/-JF9QQEBTO2A/AAAAAAAAAAI/AAAAAAAAA8Y/ZTHKpkA2j7E/s50-c-k-no/photo.jpg",
            "userId": "106694825581386080678"
          }
        }
      },
      "cell_type": "code",
      "source": [
        "!pip install tqdm\n",
        "%matplotlib inline\n",
        "import numpy as np\n",
        "import matplotlib.pyplot as plt\n",
        "import tensorflow as tf\n",
        "import math\n",
        "from tqdm import tqdm\n",
        "import sys\n",
        "tf.__version__"
      ],
      "execution_count": 1,
      "outputs": [
        {
          "output_type": "stream",
          "text": [
            "Collecting tqdm\n",
            "\u001b[?25l  Downloading https://files.pythonhosted.org/packages/93/24/6ab1df969db228aed36a648a8959d1027099ce45fad67532b9673d533318/tqdm-4.23.4-py2.py3-none-any.whl (42kB)\n",
            "\u001b[K    100% |████████████████████████████████| 51kB 4.9MB/s \n",
            "\u001b[?25hInstalling collected packages: tqdm\n",
            "Successfully installed tqdm-4.23.4\n"
          ],
          "name": "stdout"
        },
        {
          "output_type": "execute_result",
          "data": {
            "text/plain": [
              "'1.8.0'"
            ]
          },
          "metadata": {
            "tags": []
          },
          "execution_count": 1
        }
      ]
    },
    {
      "metadata": {
        "id": "jzI938puJkm0",
        "colab_type": "code",
        "colab": {
          "autoexec": {
            "startup": false,
            "wait_interval": 0
          }
        }
      },
      "cell_type": "code",
      "source": [
        "# # Enable eager execution\n",
        "# tf.enable_eager_execution()\n",
        "# tfe = tf.contrib.eager"
      ],
      "execution_count": 0,
      "outputs": []
    },
    {
      "metadata": {
        "id": "QAd4fVzjJtkt",
        "colab_type": "code",
        "colab": {
          "autoexec": {
            "startup": false,
            "wait_interval": 0
          }
        }
      },
      "cell_type": "code",
      "source": [
        "# get our dataset to work on\n",
        "(train_images, train_labels), (test_images, test_labels) = tf.keras.datasets.mnist.load_data()"
      ],
      "execution_count": 0,
      "outputs": []
    },
    {
      "metadata": {
        "id": "DPfEbXV1KpCA",
        "colab_type": "code",
        "colab": {
          "autoexec": {
            "startup": false,
            "wait_interval": 0
          },
          "base_uri": "https://localhost:8080/",
          "height": 34
        },
        "outputId": "074f436c-2cae-425f-9007-82d89d563dcd",
        "executionInfo": {
          "status": "ok",
          "timestamp": 1529040006318,
          "user_tz": -330,
          "elapsed": 1152,
          "user": {
            "displayName": "Aman Kumar",
            "photoUrl": "//lh4.googleusercontent.com/-JF9QQEBTO2A/AAAAAAAAAAI/AAAAAAAAA8Y/ZTHKpkA2j7E/s50-c-k-no/photo.jpg",
            "userId": "106694825581386080678"
          }
        }
      },
      "cell_type": "code",
      "source": [
        "print(\"Image shape: \", train_images.shape)"
      ],
      "execution_count": 3,
      "outputs": [
        {
          "output_type": "stream",
          "text": [
            "Image shape:  (60000, 28, 28)\n"
          ],
          "name": "stdout"
        }
      ]
    },
    {
      "metadata": {
        "id": "arVu3XAtKFb9",
        "colab_type": "code",
        "colab": {
          "autoexec": {
            "startup": false,
            "wait_interval": 0
          }
        }
      },
      "cell_type": "code",
      "source": [
        "def plot_images(img, num):\n",
        "  fig, axarr = plt.subplots(1, num)\n",
        "\n",
        "  for i in range(num):\n",
        "      axarr[i].imshow(img[i], cmap=\"gray\")\n",
        "      axarr[i].axis('off')"
      ],
      "execution_count": 0,
      "outputs": []
    },
    {
      "metadata": {
        "id": "BiRLr71xKciR",
        "colab_type": "code",
        "colab": {
          "autoexec": {
            "startup": false,
            "wait_interval": 0
          },
          "base_uri": "https://localhost:8080/",
          "height": 80
        },
        "outputId": "0e5a9345-d703-459e-b428-2a073574fb6f",
        "executionInfo": {
          "status": "ok",
          "timestamp": 1529040008950,
          "user_tz": -330,
          "elapsed": 1460,
          "user": {
            "displayName": "Aman Kumar",
            "photoUrl": "//lh4.googleusercontent.com/-JF9QQEBTO2A/AAAAAAAAAAI/AAAAAAAAA8Y/ZTHKpkA2j7E/s50-c-k-no/photo.jpg",
            "userId": "106694825581386080678"
          }
        }
      },
      "cell_type": "code",
      "source": [
        "plot_images(train_images, 10)"
      ],
      "execution_count": 5,
      "outputs": [
        {
          "output_type": "display_data",
          "data": {
            "image/png": "[encoded data removed]",
            "text/plain": [
              "<matplotlib.figure.Figure at 0x7f56189eac50>"
            ]
          },
          "metadata": {
            "tags": []
          }
        }
      ]
    },
    {
      "metadata": {
        "id": "09VBIYzDJ6kk",
        "colab_type": "code",
        "colab": {
          "autoexec": {
            "startup": false,
            "wait_interval": 0
          }
        }
      },
      "cell_type": "code",
      "source": [
        "# Preprocessing of Images\n",
        "TRAINING_SIZE = len(train_images)\n",
        "TEST_SIZE = len(test_images)\n",
        "with tf.device('/cpu:0'):\n",
        "  \n",
        "  # Convert the array to float32 as opposed to uint8\n",
        "  train_images = train_images.astype(np.float32).reshape(-1, 28, 28, 1)\n",
        "  test_images = test_images.astype(np.float32).reshape(-1, 28, 28, 1)\n",
        "\n",
        "  # Convert the pixel values from integers between 0 and 255 to floats between 0 and 1\n",
        "  train_images /= 255\n",
        "  test_images /=  255\n",
        "\n",
        "  # Flatten all Images\n",
        "#   X = tf.reshape(train_images, [-1, 28*28])\n",
        "\n",
        "  NUM_DIGITS = 10\n",
        "\n",
        "  train_labels  = tf.one_hot(train_labels, NUM_DIGITS)\n",
        "\n",
        "  test_labels = tf.one_hot(test_labels, NUM_DIGITS)"
      ],
      "execution_count": 0,
      "outputs": []
    },
    {
      "metadata": {
        "id": "5K4rRvzpLNxd",
        "colab_type": "code",
        "colab": {
          "autoexec": {
            "startup": false,
            "wait_interval": 0
          }
        }
      },
      "cell_type": "code",
      "source": [
        "# Convert the inputs to a Dataset.\n",
        "dataset = tf.data.Dataset.from_tensor_slices((train_images, train_labels))\n",
        "\n",
        "# Shuffle, repeat, and batch the examples.\n",
        "dataset = dataset.shuffle(10000).batch(1000)\n",
        "iterator = dataset.make_initializable_iterator()\n",
        "next_element = iterator.get_next()"
      ],
      "execution_count": 0,
      "outputs": []
    },
    {
      "metadata": {
        "id": "3MFlMJC8Ui6C",
        "colab_type": "text"
      },
      "cell_type": "markdown",
      "source": [
        "## CNN Model"
      ]
    },
    {
      "metadata": {
        "id": "Ix-XN8pKLpup",
        "colab_type": "code",
        "colab": {
          "autoexec": {
            "startup": false,
            "wait_interval": 0
          }
        }
      },
      "cell_type": "code",
      "source": [
        "features = tf.placeholder(tf.float32, [None, 28, 28, 1], name='features')\n",
        "labels = tf.placeholder(tf.float32, [None, 10], name='labels')"
      ],
      "execution_count": 0,
      "outputs": []
    },
    {
      "metadata": {
        "id": "yDLXcqrFPp1a",
        "colab_type": "code",
        "colab": {
          "autoexec": {
            "startup": false,
            "wait_interval": 0
          }
        }
      },
      "cell_type": "code",
      "source": [
        "# layer-1: CNN\n",
        "W1 = tf.Variable(tf.truncated_normal([5, 5, 1, 4], stddev=0.1))\n",
        "B1 = tf.Variable(tf.ones([4])/10)\n",
        "\n",
        "# layer-2: CNN\n",
        "W2 = tf.Variable(tf.truncated_normal([5, 5, 4, 8], stddev=0.1))\n",
        "B2 = tf.Variable(tf.ones([8])/10)\n",
        "\n",
        "# layer-3: CNN\n",
        "W3 = tf.Variable(tf.truncated_normal([4, 4, 8, 12], stddev=0.1))\n",
        "B3 = tf.Variable(tf.ones([12])/10)\n",
        "\n",
        "stride = 1\n",
        "Y1 = tf.nn.relu(tf.nn.conv2d(features, W1, strides=[1, stride, stride, 1], padding='SAME') + B1)\n",
        "\n",
        "stride = 2\n",
        "Y2 = tf.nn.relu(tf.nn.conv2d(Y1, W2, strides=[1, stride, stride, 1], padding='SAME') + B2)\n",
        "\n",
        "Y3 = tf.nn.relu(tf.nn.conv2d(Y2, W3, strides=[1, stride, stride, 1], padding='SAME') + B3)\n",
        "\n",
        "YY = tf.reshape(Y3, [-1, 7*7*12])\n",
        "\n",
        "# layer-4: FC\n",
        "W4 = tf.Variable(tf.truncated_normal([7*7*12, 200], stddev=0.1))\n",
        "B4 = tf.Variable(tf.ones([200])/10)\n",
        "\n",
        "Y4 = tf.nn.relu(tf.matmul(YY, W4) + B4)\n",
        "\n",
        "# layer-5: Output\n",
        "W5 = tf.Variable(tf.truncated_normal([200, 10], stddev=0.1))\n",
        "B5 = tf.Variable(tf.ones([10])/10)\n",
        "\n",
        "Ylogits = tf.matmul(Y4, W5) + B5\n",
        "Y_predict = tf.nn.softmax(Ylogits, name='Y_predict')"
      ],
      "execution_count": 0,
      "outputs": []
    },
    {
      "metadata": {
        "id": "VBgT0bU7NWke",
        "colab_type": "code",
        "colab": {
          "autoexec": {
            "startup": false,
            "wait_interval": 0
          }
        }
      },
      "cell_type": "code",
      "source": [
        "loss = tf.reduce_mean(tf.losses.softmax_cross_entropy(onehot_labels=labels, logits=Ylogits))*100"
      ],
      "execution_count": 0,
      "outputs": []
    },
    {
      "metadata": {
        "id": "J43c6lf2PTov",
        "colab_type": "code",
        "colab": {
          "autoexec": {
            "startup": false,
            "wait_interval": 0
          }
        }
      },
      "cell_type": "code",
      "source": [
        "# step for variable learning rate\n",
        "step = tf.placeholder(tf.int32)\n",
        "lr = 0.0001 +  tf.train.exponential_decay(0.003, step, 2000, 1/math.e)"
      ],
      "execution_count": 0,
      "outputs": []
    },
    {
      "metadata": {
        "id": "j8boU47POhFy",
        "colab_type": "code",
        "colab": {
          "autoexec": {
            "startup": false,
            "wait_interval": 0
          }
        }
      },
      "cell_type": "code",
      "source": [
        "optimizer = tf.train.AdamOptimizer(lr).minimize(loss)"
      ],
      "execution_count": 0,
      "outputs": []
    },
    {
      "metadata": {
        "id": "M35IXeI2QRPH",
        "colab_type": "code",
        "colab": {
          "autoexec": {
            "startup": false,
            "wait_interval": 0
          }
        }
      },
      "cell_type": "code",
      "source": [
        "# accuracy of the trained model, between 0 (worst) and 1 (best)\n",
        "correct_prediction = tf.equal(tf.argmax(Y_predict, 1), tf.argmax(labels, 1))\n",
        "accuracy = tf.reduce_mean(tf.cast(correct_prediction, tf.float32))"
      ],
      "execution_count": 0,
      "outputs": []
    },
    {
      "metadata": {
        "id": "x-mBGMFlNWnf",
        "colab_type": "code",
        "colab": {
          "autoexec": {
            "startup": false,
            "wait_interval": 0
          }
        }
      },
      "cell_type": "code",
      "source": [
        "init = tf.global_variables_initializer()"
      ],
      "execution_count": 0,
      "outputs": []
    },
    {
      "metadata": {
        "id": "kQMdt-y9NWqE",
        "colab_type": "code",
        "colab": {
          "autoexec": {
            "startup": false,
            "wait_interval": 0
          },
          "base_uri": "https://localhost:8080/",
          "height": 1799
        },
        "outputId": "c33214c5-af76-4bf2-ee13-ef665fcf92b9",
        "executionInfo": {
          "status": "ok",
          "timestamp": 1529091707177,
          "user_tz": -330,
          "elapsed": 46619,
          "user": {
            "displayName": "Aman Kumar",
            "photoUrl": "//lh4.googleusercontent.com/-JF9QQEBTO2A/AAAAAAAAAAI/AAAAAAAAA8Y/ZTHKpkA2j7E/s50-c-k-no/photo.jpg",
            "userId": "106694825581386080678"
          }
        }
      },
      "cell_type": "code",
      "source": [
        "# plt.rcParams[\"figure.figsize\"] = [8, 4]\n",
        "fig, axarr = plt.subplots(1, 2)\n",
        "EPOCHS = 30\n",
        "\n",
        "\n",
        "mat_acc = []\n",
        "mat_loss = []\n",
        "with tf.device('/gpu:0'):\n",
        "  sess = tf.Session()\n",
        "  sess.run(init)\n",
        "  for j in range(EPOCHS):\n",
        "    print('\\nepoch: ', j)\n",
        "    sys.stdout.flush()\n",
        "    sess.run(iterator.initializer)\n",
        "    for i in tqdm(range(60)):\n",
        "        batch_X, batch_Y = sess.run(next_element)\n",
        "        acc, _, l = sess.run([accuracy,optimizer, loss], \n",
        "                                feed_dict={features: batch_X, labels: batch_Y, step: 600*j+i})\n",
        "        mat_acc.append(acc)\n",
        "        mat_loss.append(l)\n",
        "axarr[0].plot(mat_acc)\n",
        "axarr[1].plot(mat_loss)\n",
        "fig.canvas.draw()\n"
      ],
      "execution_count": 18,
      "outputs": [
        {
          "output_type": "stream",
          "text": [
            "\n",
            "epoch:  0\n"
          ],
          "name": "stdout"
        },
        {
          "output_type": "stream",
          "text": [
            "100%|██████████| 60/60 [00:02<00:00, 23.31it/s]"
          ],
          "name": "stderr"
        },
        {
          "output_type": "stream",
          "text": [
            "\n",
            "epoch:  1\n"
          ],
          "name": "stdout"
        },
        {
          "output_type": "stream",
          "text": [
            "\n",
            "100%|██████████| 60/60 [00:01<00:00, 40.54it/s]"
          ],
          "name": "stderr"
        },
        {
          "output_type": "stream",
          "text": [
            "\n",
            "epoch:  2\n"
          ],
          "name": "stdout"
        },
        {
          "output_type": "stream",
          "text": [
            "\n",
            "100%|██████████| 60/60 [00:01<00:00, 42.94it/s]"
          ],
          "name": "stderr"
        },
        {
          "output_type": "stream",
          "text": [
            "\n",
            "epoch:  3\n"
          ],
          "name": "stdout"
        },
        {
          "output_type": "stream",
          "text": [
            "\n",
            "100%|██████████| 60/60 [00:01<00:00, 42.51it/s]"
          ],
          "name": "stderr"
        },
        {
          "output_type": "stream",
          "text": [
            "\n",
            "epoch:  4\n"
          ],
          "name": "stdout"
        },
        {
          "output_type": "stream",
          "text": [
            "\n",
            "100%|██████████| 60/60 [00:01<00:00, 42.80it/s]"
          ],
          "name": "stderr"
        },
        {
          "output_type": "stream",
          "text": [
            "\n",
            "epoch:  5\n"
          ],
          "name": "stdout"
        },
        {
          "output_type": "stream",
          "text": [
            "\n",
            "100%|██████████| 60/60 [00:01<00:00, 42.28it/s]"
          ],
          "name": "stderr"
        },
        {
          "output_type": "stream",
          "text": [
            "\n",
            "epoch:  6\n"
          ],
          "name": "stdout"
        },
        {
          "output_type": "stream",
          "text": [
            "\n",
            "100%|██████████| 60/60 [00:01<00:00, 42.65it/s]"
          ],
          "name": "stderr"
        },
        {
          "output_type": "stream",
          "text": [
            "\n",
            "epoch:  7\n"
          ],
          "name": "stdout"
        },
        {
          "output_type": "stream",
          "text": [
            "\n",
            "100%|██████████| 60/60 [00:01<00:00, 43.13it/s]"
          ],
          "name": "stderr"
        },
        {
          "output_type": "stream",
          "text": [
            "\n",
            "epoch:  8\n"
          ],
          "name": "stdout"
        },
        {
          "output_type": "stream",
          "text": [
            "\n",
            "100%|██████████| 60/60 [00:01<00:00, 42.90it/s]"
          ],
          "name": "stderr"
        },
        {
          "output_type": "stream",
          "text": [
            "\n",
            "epoch:  9\n"
          ],
          "name": "stdout"
        },
        {
          "output_type": "stream",
          "text": [
            "\n",
            "100%|██████████| 60/60 [00:01<00:00, 42.87it/s]"
          ],
          "name": "stderr"
        },
        {
          "output_type": "stream",
          "text": [
            "\n",
            "epoch:  10\n"
          ],
          "name": "stdout"
        },
        {
          "output_type": "stream",
          "text": [
            "\n",
            "100%|██████████| 60/60 [00:01<00:00, 42.42it/s]"
          ],
          "name": "stderr"
        },
        {
          "output_type": "stream",
          "text": [
            "\n",
            "epoch:  11\n"
          ],
          "name": "stdout"
        },
        {
          "output_type": "stream",
          "text": [
            "\n",
            "100%|██████████| 60/60 [00:01<00:00, 42.67it/s]"
          ],
          "name": "stderr"
        },
        {
          "output_type": "stream",
          "text": [
            "\n",
            "epoch:  12\n"
          ],
          "name": "stdout"
        },
        {
          "output_type": "stream",
          "text": [
            "\n",
            "100%|██████████| 60/60 [00:01<00:00, 42.78it/s]"
          ],
          "name": "stderr"
        },
        {
          "output_type": "stream",
          "text": [
            "\n",
            "epoch:  13\n"
          ],
          "name": "stdout"
        },
        {
          "output_type": "stream",
          "text": [
            "\n",
            "100%|██████████| 60/60 [00:01<00:00, 43.06it/s]"
          ],
          "name": "stderr"
        },
        {
          "output_type": "stream",
          "text": [
            "\n",
            "epoch:  14\n"
          ],
          "name": "stdout"
        },
        {
          "output_type": "stream",
          "text": [
            "\n",
            "100%|██████████| 60/60 [00:01<00:00, 42.79it/s]"
          ],
          "name": "stderr"
        },
        {
          "output_type": "stream",
          "text": [
            "\n",
            "epoch:  15\n"
          ],
          "name": "stdout"
        },
        {
          "output_type": "stream",
          "text": [
            "\n",
            "100%|██████████| 60/60 [00:01<00:00, 42.09it/s]"
          ],
          "name": "stderr"
        },
        {
          "output_type": "stream",
          "text": [
            "\n",
            "epoch:  16\n"
          ],
          "name": "stdout"
        },
        {
          "output_type": "stream",
          "text": [
            "\n",
            "100%|██████████| 60/60 [00:01<00:00, 42.65it/s]"
          ],
          "name": "stderr"
        },
        {
          "output_type": "stream",
          "text": [
            "\n",
            "epoch:  17\n"
          ],
          "name": "stdout"
        },
        {
          "output_type": "stream",
          "text": [
            "\n",
            "100%|██████████| 60/60 [00:01<00:00, 41.99it/s]"
          ],
          "name": "stderr"
        },
        {
          "output_type": "stream",
          "text": [
            "\n",
            "epoch:  18\n"
          ],
          "name": "stdout"
        },
        {
          "output_type": "stream",
          "text": [
            "\n",
            "100%|██████████| 60/60 [00:01<00:00, 43.00it/s]"
          ],
          "name": "stderr"
        },
        {
          "output_type": "stream",
          "text": [
            "\n",
            "epoch:  19\n"
          ],
          "name": "stdout"
        },
        {
          "output_type": "stream",
          "text": [
            "\n",
            "100%|██████████| 60/60 [00:01<00:00, 42.92it/s]"
          ],
          "name": "stderr"
        },
        {
          "output_type": "stream",
          "text": [
            "\n",
            "epoch:  20\n"
          ],
          "name": "stdout"
        },
        {
          "output_type": "stream",
          "text": [
            "\n",
            "100%|██████████| 60/60 [00:01<00:00, 42.46it/s]"
          ],
          "name": "stderr"
        },
        {
          "output_type": "stream",
          "text": [
            "\n",
            "epoch:  21\n"
          ],
          "name": "stdout"
        },
        {
          "output_type": "stream",
          "text": [
            "\n",
            "100%|██████████| 60/60 [00:01<00:00, 42.80it/s]"
          ],
          "name": "stderr"
        },
        {
          "output_type": "stream",
          "text": [
            "\n",
            "epoch:  22\n"
          ],
          "name": "stdout"
        },
        {
          "output_type": "stream",
          "text": [
            "\n",
            "100%|██████████| 60/60 [00:01<00:00, 41.50it/s]"
          ],
          "name": "stderr"
        },
        {
          "output_type": "stream",
          "text": [
            "\n",
            "epoch:  23\n"
          ],
          "name": "stdout"
        },
        {
          "output_type": "stream",
          "text": [
            "\n",
            "100%|██████████| 60/60 [00:01<00:00, 42.22it/s]"
          ],
          "name": "stderr"
        },
        {
          "output_type": "stream",
          "text": [
            "\n",
            "epoch:  24\n"
          ],
          "name": "stdout"
        },
        {
          "output_type": "stream",
          "text": [
            "\n",
            "100%|██████████| 60/60 [00:01<00:00, 42.24it/s]"
          ],
          "name": "stderr"
        },
        {
          "output_type": "stream",
          "text": [
            "\n",
            "epoch:  25\n"
          ],
          "name": "stdout"
        },
        {
          "output_type": "stream",
          "text": [
            "\n",
            "100%|██████████| 60/60 [00:01<00:00, 42.37it/s]"
          ],
          "name": "stderr"
        },
        {
          "output_type": "stream",
          "text": [
            "\n",
            "epoch:  26\n"
          ],
          "name": "stdout"
        },
        {
          "output_type": "stream",
          "text": [
            "\n",
            "100%|██████████| 60/60 [00:01<00:00, 42.18it/s]"
          ],
          "name": "stderr"
        },
        {
          "output_type": "stream",
          "text": [
            "\n",
            "epoch:  27\n"
          ],
          "name": "stdout"
        },
        {
          "output_type": "stream",
          "text": [
            "\n",
            "100%|██████████| 60/60 [00:01<00:00, 40.95it/s]"
          ],
          "name": "stderr"
        },
        {
          "output_type": "stream",
          "text": [
            "\n",
            "epoch:  28\n"
          ],
          "name": "stdout"
        },
        {
          "output_type": "stream",
          "text": [
            "\n",
            "100%|██████████| 60/60 [00:01<00:00, 41.84it/s]"
          ],
          "name": "stderr"
        },
        {
          "output_type": "stream",
          "text": [
            "\n",
            "epoch:  29\n"
          ],
          "name": "stdout"
        },
        {
          "output_type": "stream",
          "text": [
            "\n",
            "100%|██████████| 60/60 [00:01<00:00, 41.89it/s]\n"
          ],
          "name": "stderr"
        },
        {
          "output_type": "display_data",
          "data": {
            "image/png": "[encoded data removed]",
            "text/plain": [
              "<matplotlib.figure.Figure at 0x7f9e0f65ee80>"
            ]
          },
          "metadata": {
            "tags": []
          }
        }
      ]
    },
    {
      "metadata": {
        "id": "gXMFoX7F1rL-",
        "colab_type": "code",
        "colab": {
          "autoexec": {
            "startup": false,
            "wait_interval": 0
          }
        }
      },
      "cell_type": "code",
      "source": [
        "# Convert the inputs to a Dataset.\n",
        "dataset_test = tf.data.Dataset.from_tensor_slices((test_images, test_labels))\n",
        "# # Shuffle, repeat, and batch the examples.\n",
        "dataset_test = dataset_test.batch(10000)\n",
        "iterator_new = dataset_test.make_one_shot_iterator()\n",
        "next_element2 = iterator_new.get_next()"
      ],
      "execution_count": 0,
      "outputs": []
    },
    {
      "metadata": {
        "id": "74P944uoXJfc",
        "colab_type": "code",
        "colab": {
          "autoexec": {
            "startup": false,
            "wait_interval": 0
          },
          "base_uri": "https://localhost:8080/",
          "height": 34
        },
        "outputId": "bd350a31-765d-44f5-dc59-89ae7ff6d77a",
        "executionInfo": {
          "status": "ok",
          "timestamp": 1529091750870,
          "user_tz": -330,
          "elapsed": 2062,
          "user": {
            "displayName": "Aman Kumar",
            "photoUrl": "//lh4.googleusercontent.com/-JF9QQEBTO2A/AAAAAAAAAAI/AAAAAAAAA8Y/ZTHKpkA2j7E/s50-c-k-no/photo.jpg",
            "userId": "106694825581386080678"
          }
        }
      },
      "cell_type": "code",
      "source": [
        "x ,y = sess.run(next_element2)\n",
        "a = sess.run([accuracy], feed_dict={features: x, labels: y})\n",
        "print(\"test accuracy: \", a)"
      ],
      "execution_count": 23,
      "outputs": [
        {
          "output_type": "stream",
          "text": [
            "test accuracy:  [0.9838]\n"
          ],
          "name": "stdout"
        }
      ]
    },
    {
      "metadata": {
        "id": "q-NknEf05KTV",
        "colab_type": "text"
      },
      "cell_type": "markdown",
      "source": [
        "## Save our Session"
      ]
    },
    {
      "metadata": {
        "id": "9pYJU1M15NEe",
        "colab_type": "code",
        "colab": {
          "autoexec": {
            "startup": false,
            "wait_interval": 0
          },
          "base_uri": "https://localhost:8080/",
          "height": 34
        },
        "outputId": "2cc182ca-4d85-4e36-c247-99ea17e6dcd7",
        "executionInfo": {
          "status": "ok",
          "timestamp": 1529091765996,
          "user_tz": -330,
          "elapsed": 4315,
          "user": {
            "displayName": "Aman Kumar",
            "photoUrl": "//lh4.googleusercontent.com/-JF9QQEBTO2A/AAAAAAAAAAI/AAAAAAAAA8Y/ZTHKpkA2j7E/s50-c-k-no/photo.jpg",
            "userId": "106694825581386080678"
          }
        }
      },
      "cell_type": "code",
      "source": [
        "saver = tf.train.Saver()\n",
        "\n",
        "save_path = saver.save(sess, \"session/model.ckpt\")\n",
        "print(\"Model saved in path: %s\" % save_path)"
      ],
      "execution_count": 24,
      "outputs": [
        {
          "output_type": "stream",
          "text": [
            "Model saved in path: session/model.ckpt\n"
          ],
          "name": "stdout"
        }
      ]
    },
    {
      "metadata": {
        "id": "xJvny-295mCI",
        "colab_type": "code",
        "colab": {
          "autoexec": {
            "startup": false,
            "wait_interval": 0
          },
          "base_uri": "https://localhost:8080/",
          "height": 102
        },
        "outputId": "fcd31b15-94d5-4e81-c3be-cd4aeff44f26",
        "executionInfo": {
          "status": "ok",
          "timestamp": 1529091780289,
          "user_tz": -330,
          "elapsed": 8896,
          "user": {
            "displayName": "Aman Kumar",
            "photoUrl": "//lh4.googleusercontent.com/-JF9QQEBTO2A/AAAAAAAAAAI/AAAAAAAAA8Y/ZTHKpkA2j7E/s50-c-k-no/photo.jpg",
            "userId": "106694825581386080678"
          }
        }
      },
      "cell_type": "code",
      "source": [
        "!zip -r model.zip session"
      ],
      "execution_count": 25,
      "outputs": [
        {
          "output_type": "stream",
          "text": [
            "  adding: session/ (stored 0%)\n",
            "  adding: session/model.ckpt.meta (deflated 92%)\n",
            "  adding: session/checkpoint (deflated 42%)\n",
            "  adding: session/model.ckpt.index (deflated 43%)\n",
            "  adding: session/model.ckpt.data-00000-of-00001 (deflated 9%)\n"
          ],
          "name": "stdout"
        }
      ]
    },
    {
      "metadata": {
        "id": "fgnzljbS69zo",
        "colab_type": "text"
      },
      "cell_type": "markdown",
      "source": [
        "## And Download it"
      ]
    },
    {
      "metadata": {
        "id": "HEUv96F26YQK",
        "colab_type": "code",
        "colab": {
          "autoexec": {
            "startup": false,
            "wait_interval": 0
          }
        }
      },
      "cell_type": "code",
      "source": [
        "from google.colab import files\n",
        "files.download('model.zip')"
      ],
      "execution_count": 0,
      "outputs": []
    },
    {
      "metadata": {
        "id": "LQINPKJRPqJk",
        "colab_type": "code",
        "colab": {
          "autoexec": {
            "startup": false,
            "wait_interval": 0
          }
        }
      },
      "cell_type": "code",
      "source": [
        "tf.reset_default_graph()"
      ],
      "execution_count": 0,
      "outputs": []
    },
    {
      "metadata": {
        "id": "254q5xm7MbYC",
        "colab_type": "code",
        "colab": {
          "autoexec": {
            "startup": false,
            "wait_interval": 0
          },
          "base_uri": "https://localhost:8080/",
          "height": 139
        },
        "outputId": "e8368bac-6fff-4679-b501-12f4d9b3e469",
        "executionInfo": {
          "status": "ok",
          "timestamp": 1529039082151,
          "user_tz": -330,
          "elapsed": 9721,
          "user": {
            "displayName": "Aman Kumar",
            "photoUrl": "//lh4.googleusercontent.com/-JF9QQEBTO2A/AAAAAAAAAAI/AAAAAAAAA8Y/ZTHKpkA2j7E/s50-c-k-no/photo.jpg",
            "userId": "106694825581386080678"
          }
        }
      },
      "cell_type": "code",
      "source": [
        "# # memory footprint support libraries/code\n",
        "# !ln -sf /opt/bin/nvidia-smi /usr/bin/nvidia-smi\n",
        "# !pip install gputil\n",
        "# !pip install psutil\n",
        "# !pip install humanize\n",
        "import psutil\n",
        "import humanize\n",
        "import os\n",
        "import GPUtil as GPU\n",
        "GPUs = GPU.getGPUs()\n",
        "# XXX: only one GPU on Colab and isn’t guaranteed\n",
        "gpu = GPUs[0]\n",
        "def printm():\n",
        " process = psutil.Process(os.getpid())\n",
        " print(\"Gen RAM Free: \" + humanize.naturalsize( psutil.virtual_memory().available ), \" | Proc size: \" + humanize.naturalsize( process.memory_info().rss))\n",
        " print(\"GPU RAM Free: {0:.0f}MB | Used: {1:.0f}MB | Util {2:3.0f}% | Total {3:.0f}MB\".format(gpu.memoryFree, gpu.memoryUsed, gpu.memoryUtil*100, gpu.memoryTotal))\n",
        "printm()"
      ],
      "execution_count": 95,
      "outputs": [
        {
          "output_type": "stream",
          "text": [
            "Requirement already satisfied: gputil in /usr/local/lib/python3.6/dist-packages (1.3.0)\r\n",
            "Requirement already satisfied: numpy in /usr/local/lib/python3.6/dist-packages (from gputil) (1.14.3)\n",
            "Requirement already satisfied: psutil in /usr/local/lib/python3.6/dist-packages (5.4.5)\n",
            "Requirement already satisfied: humanize in /usr/local/lib/python3.6/dist-packages (0.5.1)\n",
            "Gen RAM Free: 7.9 GB  | Proc size: 5.2 GB\n",
            "GPU RAM Free: 503MB | Used: 10936MB | Util  96% | Total 11439MB\n"
          ],
          "name": "stdout"
        }
      ]
    }
  ]
}