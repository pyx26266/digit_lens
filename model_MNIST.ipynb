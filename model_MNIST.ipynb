{
  "nbformat": 4,
  "nbformat_minor": 0,
  "metadata": {
    "colab": {
      "name": "MNIST_lens.ipynb",
      "version": "0.3.2",
      "views": {},
      "default_view": {},
      "provenance": []
    },
    "kernelspec": {
      "name": "python3",
      "display_name": "Python 3"
    },
    "accelerator": "GPU"
  },
  "cells": [
    {
      "metadata": {
        "id": "zjoBEyveJCrq",
        "colab_type": "code",
        "colab": {
          "autoexec": {
            "startup": false,
            "wait_interval": 0
          },
          "base_uri": "https://localhost:8080/",
          "height": 51
        },
        "outputId": "926f4827-dbea-4cd4-d7f9-0487947eded9",
        "executionInfo": {
          "status": "ok",
          "timestamp": 1529040003586,
          "user_tz": -330,
          "elapsed": 4201,
          "user": {
            "displayName": "Aman Kumar",
            "photoUrl": "//lh4.googleusercontent.com/-JF9QQEBTO2A/AAAAAAAAAAI/AAAAAAAAA8Y/ZTHKpkA2j7E/s50-c-k-no/photo.jpg",
            "userId": "106694825581386080678"
          }
        }
      },
      "cell_type": "code",
      "source": [
        "!pip install tqdm\n",
        "%matplotlib inline\n",
        "import numpy as np\n",
        "import matplotlib.pyplot as plt\n",
        "import tensorflow as tf\n",
        "import math\n",
        "from tqdm import tqdm\n",
        "import sys\n",
        "tf.__version__"
      ],
      "execution_count": 1,
      "outputs": [
        {
          "output_type": "stream",
          "text": [
            "Requirement already satisfied: tqdm in /usr/local/lib/python3.6/dist-packages (4.23.4)\r\n"
          ],
          "name": "stdout"
        },
        {
          "output_type": "execute_result",
          "data": {
            "text/plain": [
              "'1.8.0'"
            ]
          },
          "metadata": {
            "tags": []
          },
          "execution_count": 1
        }
      ]
    },
    {
      "metadata": {
        "id": "jzI938puJkm0",
        "colab_type": "code",
        "colab": {
          "autoexec": {
            "startup": false,
            "wait_interval": 0
          }
        }
      },
      "cell_type": "code",
      "source": [
        "# # Enable eager execution\n",
        "# tf.enable_eager_execution()\n",
        "# tfe = tf.contrib.eager"
      ],
      "execution_count": 0,
      "outputs": []
    },
    {
      "metadata": {
        "id": "QAd4fVzjJtkt",
        "colab_type": "code",
        "colab": {
          "autoexec": {
            "startup": false,
            "wait_interval": 0
          }
        }
      },
      "cell_type": "code",
      "source": [
        "# get our dataset to work on\n",
        "(train_images, train_labels), (test_images, test_labels) = tf.keras.datasets.mnist.load_data()"
      ],
      "execution_count": 0,
      "outputs": []
    },
    {
      "metadata": {
        "id": "DPfEbXV1KpCA",
        "colab_type": "code",
        "colab": {
          "autoexec": {
            "startup": false,
            "wait_interval": 0
          },
          "base_uri": "https://localhost:8080/",
          "height": 34
        },
        "outputId": "074f436c-2cae-425f-9007-82d89d563dcd",
        "executionInfo": {
          "status": "ok",
          "timestamp": 1529040006318,
          "user_tz": -330,
          "elapsed": 1152,
          "user": {
            "displayName": "Aman Kumar",
            "photoUrl": "//lh4.googleusercontent.com/-JF9QQEBTO2A/AAAAAAAAAAI/AAAAAAAAA8Y/ZTHKpkA2j7E/s50-c-k-no/photo.jpg",
            "userId": "106694825581386080678"
          }
        }
      },
      "cell_type": "code",
      "source": [
        "print(\"Image shape: \", train_images.shape)"
      ],
      "execution_count": 3,
      "outputs": [
        {
          "output_type": "stream",
          "text": [
            "Image shape:  (60000, 28, 28)\n"
          ],
          "name": "stdout"
        }
      ]
    },
    {
      "metadata": {
        "id": "arVu3XAtKFb9",
        "colab_type": "code",
        "colab": {
          "autoexec": {
            "startup": false,
            "wait_interval": 0
          }
        }
      },
      "cell_type": "code",
      "source": [
        "def plot_images(img, num):\n",
        "  fig, axarr = plt.subplots(1, num)\n",
        "\n",
        "  for i in range(num):\n",
        "      axarr[i].imshow(img[i], cmap=\"gray\")\n",
        "      axarr[i].axis('off')"
      ],
      "execution_count": 0,
      "outputs": []
    },
    {
      "metadata": {
        "id": "BiRLr71xKciR",
        "colab_type": "code",
        "colab": {
          "autoexec": {
            "startup": false,
            "wait_interval": 0
          },
          "base_uri": "https://localhost:8080/",
          "height": 80
        },
        "outputId": "0e5a9345-d703-459e-b428-2a073574fb6f",
        "executionInfo": {
          "status": "ok",
          "timestamp": 1529040008950,
          "user_tz": -330,
          "elapsed": 1460,
          "user": {
            "displayName": "Aman Kumar",
            "photoUrl": "//lh4.googleusercontent.com/-JF9QQEBTO2A/AAAAAAAAAAI/AAAAAAAAA8Y/ZTHKpkA2j7E/s50-c-k-no/photo.jpg",
            "userId": "106694825581386080678"
          }
        }
      },
      "cell_type": "code",
      "source": [
        "plot_images(train_images, 10)"
      ],
      "execution_count": 5,
      "outputs": [
        {
          "output_type": "display_data",
          "data": {
            "image/png": "[encoded data removed]",
            "text/plain": [
              "<matplotlib.figure.Figure at 0x7f56189eac50>"
            ]
          },
          "metadata": {
            "tags": []
          }
        }
      ]
    },
    {
      "metadata": {
        "id": "09VBIYzDJ6kk",
        "colab_type": "code",
        "colab": {
          "autoexec": {
            "startup": false,
            "wait_interval": 0
          }
        }
      },
      "cell_type": "code",
      "source": [
        "# Preprocessing of Images\n",
        "TRAINING_SIZE = len(train_images)\n",
        "TEST_SIZE = len(test_images)\n",
        "with tf.device('/cpu:0'):\n",
        "  \n",
        "  # Convert the array to float32 as opposed to uint8\n",
        "  train_images = train_images.astype(np.float32).reshape(-1, 28, 28, 1)\n",
        "  test_images = test_images.astype(np.float32).reshape(-1, 28, 28, 1)\n",
        "\n",
        "  # Convert the pixel values from integers between 0 and 255 to floats between 0 and 1\n",
        "  train_images /= 255\n",
        "  test_images /=  255\n",
        "\n",
        "  # Flatten all Images\n",
        "#   X = tf.reshape(train_images, [-1, 28*28])\n",
        "\n",
        "  NUM_DIGITS = 10\n",
        "\n",
        "  train_labels  = tf.one_hot(train_labels, NUM_DIGITS)\n",
        "\n",
        "  test_labels = tf.one_hot(test_labels, NUM_DIGITS)"
      ],
      "execution_count": 0,
      "outputs": []
    },
    {
      "metadata": {
        "id": "5K4rRvzpLNxd",
        "colab_type": "code",
        "colab": {
          "autoexec": {
            "startup": false,
            "wait_interval": 0
          }
        }
      },
      "cell_type": "code",
      "source": [
        "# Convert the inputs to a Dataset.\n",
        "dataset = tf.data.Dataset.from_tensor_slices((train_images, train_labels))\n",
        "\n",
        "# Shuffle, repeat, and batch the examples.\n",
        "dataset = dataset.shuffle(10000).batch(1000)\n",
        "iterator = dataset.make_initializable_iterator()\n",
        "next_element = iterator.get_next()"
      ],
      "execution_count": 0,
      "outputs": []
    },
    {
      "metadata": {
        "id": "3MFlMJC8Ui6C",
        "colab_type": "text"
      },
      "cell_type": "markdown",
      "source": [
        "## CNN Model"
      ]
    },
    {
      "metadata": {
        "id": "Ix-XN8pKLpup",
        "colab_type": "code",
        "colab": {
          "autoexec": {
            "startup": false,
            "wait_interval": 0
          }
        }
      },
      "cell_type": "code",
      "source": [
        "X_train = tf.placeholder(tf.float32, [None, 28, 28, 1])\n",
        "Y_labels = tf.placeholder(tf.float32, [None, 10])"
      ],
      "execution_count": 0,
      "outputs": []
    },
    {
      "metadata": {
        "id": "yDLXcqrFPp1a",
        "colab_type": "code",
        "colab": {
          "autoexec": {
            "startup": false,
            "wait_interval": 0
          }
        }
      },
      "cell_type": "code",
      "source": [
        "# layer-1: CNN\n",
        "W1 = tf.Variable(tf.truncated_normal([5, 5, 1, 4], stddev=0.1))\n",
        "B1 = tf.Variable(tf.ones([4])/10)\n",
        "\n",
        "# layer-2: CNN\n",
        "W2 = tf.Variable(tf.truncated_normal([5, 5, 4, 8], stddev=0.1))\n",
        "B2 = tf.Variable(tf.ones([8])/10)\n",
        "\n",
        "# layer-3: CNN\n",
        "W3 = tf.Variable(tf.truncated_normal([4, 4, 8, 12], stddev=0.1))\n",
        "B3 = tf.Variable(tf.ones([12])/10)\n",
        "\n",
        "stride = 1\n",
        "Y1 = tf.nn.relu(tf.nn.conv2d(X_train, W1, strides=[1, stride, stride, 1], padding='SAME') + B1)\n",
        "\n",
        "stride = 2\n",
        "Y2 = tf.nn.relu(tf.nn.conv2d(Y1, W2, strides=[1, stride, stride, 1], padding='SAME') + B2)\n",
        "\n",
        "Y3 = tf.nn.relu(tf.nn.conv2d(Y2, W3, strides=[1, stride, stride, 1], padding='SAME') + B3)\n",
        "\n",
        "YY = tf.reshape(Y3, [-1, 7*7*12])\n",
        "\n",
        "# layer-4: FC\n",
        "W4 = tf.Variable(tf.truncated_normal([7*7*12, 200], stddev=0.1))\n",
        "B4 = tf.Variable(tf.ones([200])/10)\n",
        "\n",
        "Y4 = tf.nn.relu(tf.matmul(YY, W4) + B4)\n",
        "\n",
        "# layer-5: Output\n",
        "W5 = tf.Variable(tf.truncated_normal([200, 10], stddev=0.1))\n",
        "B5 = tf.Variable(tf.ones([10])/10)\n",
        "\n",
        "Ylogits = tf.matmul(Y4, W5) + B5\n",
        "Y = tf.nn.softmax(Ylogits)"
      ],
      "execution_count": 0,
      "outputs": []
    },
    {
      "metadata": {
        "id": "VBgT0bU7NWke",
        "colab_type": "code",
        "colab": {
          "autoexec": {
            "startup": false,
            "wait_interval": 0
          }
        }
      },
      "cell_type": "code",
      "source": [
        "loss = tf.reduce_mean(tf.losses.softmax_cross_entropy(onehot_labels=Y_labels, logits=Ylogits))*100"
      ],
      "execution_count": 0,
      "outputs": []
    },
    {
      "metadata": {
        "id": "J43c6lf2PTov",
        "colab_type": "code",
        "colab": {
          "autoexec": {
            "startup": false,
            "wait_interval": 0
          }
        }
      },
      "cell_type": "code",
      "source": [
        "# step for variable learning rate\n",
        "step = tf.placeholder(tf.int32)\n",
        "lr = 0.0001 +  tf.train.exponential_decay(0.003, step, 2000, 1/math.e)"
      ],
      "execution_count": 0,
      "outputs": []
    },
    {
      "metadata": {
        "id": "j8boU47POhFy",
        "colab_type": "code",
        "colab": {
          "autoexec": {
            "startup": false,
            "wait_interval": 0
          }
        }
      },
      "cell_type": "code",
      "source": [
        "optimizer = tf.train.AdamOptimizer(lr).minimize(loss)"
      ],
      "execution_count": 0,
      "outputs": []
    },
    {
      "metadata": {
        "id": "M35IXeI2QRPH",
        "colab_type": "code",
        "colab": {
          "autoexec": {
            "startup": false,
            "wait_interval": 0
          }
        }
      },
      "cell_type": "code",
      "source": [
        "# accuracy of the trained model, between 0 (worst) and 1 (best)\n",
        "correct_prediction = tf.equal(tf.argmax(Y, 1), tf.argmax(Y_labels, 1))\n",
        "accuracy = tf.reduce_mean(tf.cast(correct_prediction, tf.float32))"
      ],
      "execution_count": 0,
      "outputs": []
    },
    {
      "metadata": {
        "id": "x-mBGMFlNWnf",
        "colab_type": "code",
        "colab": {
          "autoexec": {
            "startup": false,
            "wait_interval": 0
          }
        }
      },
      "cell_type": "code",
      "source": [
        "init = tf.global_variables_initializer()"
      ],
      "execution_count": 0,
      "outputs": []
    },
    {
      "metadata": {
        "id": "kQMdt-y9NWqE",
        "colab_type": "code",
        "colab": {
          "autoexec": {
            "startup": false,
            "wait_interval": 0
          },
          "base_uri": "https://localhost:8080/",
          "height": 1289
        },
        "outputId": "983dbec8-440f-45e4-9240-ef98e77e3e45",
        "executionInfo": {
          "status": "ok",
          "timestamp": 1529040053395,
          "user_tz": -330,
          "elapsed": 32719,
          "user": {
            "displayName": "Aman Kumar",
            "photoUrl": "//lh4.googleusercontent.com/-JF9QQEBTO2A/AAAAAAAAAAI/AAAAAAAAA8Y/ZTHKpkA2j7E/s50-c-k-no/photo.jpg",
            "userId": "106694825581386080678"
          }
        }
      },
      "cell_type": "code",
      "source": [
        "# plt.rcParams[\"figure.figsize\"] = [8, 4]\n",
        "fig, axarr = plt.subplots(1, 2)\n",
        "EPOCHS = 20\n",
        "\n",
        "\n",
        "mat_acc = []\n",
        "mat_loss = []\n",
        "with tf.device('/gpu:0'):\n",
        "  sess = tf.Session()\n",
        "  sess.run(init)\n",
        "  for j in range(EPOCHS):\n",
        "    print('\\nepoch: ', j)\n",
        "    sys.stdout.flush()\n",
        "    sess.run(iterator.initializer)\n",
        "    for i in tqdm(range(60)):\n",
        "        batch_X, batch_Y = sess.run(next_element)\n",
        "        acc, _, l = sess.run([accuracy,optimizer, loss], \n",
        "                                feed_dict={X_train: batch_X, Y_labels: batch_Y, step: 600*j+i})\n",
        "        mat_acc.append(acc)\n",
        "        mat_loss.append(l)\n",
        "axarr[0].plot(mat_acc)\n",
        "axarr[1].plot(mat_loss)\n",
        "fig.canvas.draw()\n"
      ],
      "execution_count": 15,
      "outputs": [
        {
          "output_type": "stream",
          "text": [
            "\n",
            "epoch:  0\n"
          ],
          "name": "stdout"
        },
        {
          "output_type": "stream",
          "text": [
            "100%|██████████| 60/60 [00:02<00:00, 24.71it/s]"
          ],
          "name": "stderr"
        },
        {
          "output_type": "stream",
          "text": [
            "\n",
            "epoch:  1\n"
          ],
          "name": "stdout"
        },
        {
          "output_type": "stream",
          "text": [
            "\n",
            "100%|██████████| 60/60 [00:01<00:00, 42.70it/s]"
          ],
          "name": "stderr"
        },
        {
          "output_type": "stream",
          "text": [
            "\n",
            "epoch:  2\n"
          ],
          "name": "stdout"
        },
        {
          "output_type": "stream",
          "text": [
            "\n",
            "100%|██████████| 60/60 [00:01<00:00, 41.90it/s]"
          ],
          "name": "stderr"
        },
        {
          "output_type": "stream",
          "text": [
            "\n",
            "epoch:  3\n"
          ],
          "name": "stdout"
        },
        {
          "output_type": "stream",
          "text": [
            "\n",
            "100%|██████████| 60/60 [00:01<00:00, 42.72it/s]"
          ],
          "name": "stderr"
        },
        {
          "output_type": "stream",
          "text": [
            "\n",
            "epoch:  4\n"
          ],
          "name": "stdout"
        },
        {
          "output_type": "stream",
          "text": [
            "\n",
            "100%|██████████| 60/60 [00:01<00:00, 41.55it/s]"
          ],
          "name": "stderr"
        },
        {
          "output_type": "stream",
          "text": [
            "\n",
            "epoch:  5\n"
          ],
          "name": "stdout"
        },
        {
          "output_type": "stream",
          "text": [
            "\n",
            "100%|██████████| 60/60 [00:01<00:00, 41.52it/s]\n"
          ],
          "name": "stderr"
        },
        {
          "output_type": "stream",
          "text": [
            "\n",
            "epoch:  6\n"
          ],
          "name": "stdout"
        },
        {
          "output_type": "stream",
          "text": [
            "100%|██████████| 60/60 [00:01<00:00, 40.24it/s]"
          ],
          "name": "stderr"
        },
        {
          "output_type": "stream",
          "text": [
            "\n",
            "epoch:  7\n"
          ],
          "name": "stdout"
        },
        {
          "output_type": "stream",
          "text": [
            "\n",
            "100%|██████████| 60/60 [00:01<00:00, 41.10it/s]"
          ],
          "name": "stderr"
        },
        {
          "output_type": "stream",
          "text": [
            "\n",
            "epoch:  8\n"
          ],
          "name": "stdout"
        },
        {
          "output_type": "stream",
          "text": [
            "\n",
            "100%|██████████| 60/60 [00:01<00:00, 41.20it/s]"
          ],
          "name": "stderr"
        },
        {
          "output_type": "stream",
          "text": [
            "\n",
            "epoch:  9\n"
          ],
          "name": "stdout"
        },
        {
          "output_type": "stream",
          "text": [
            "\n",
            "100%|██████████| 60/60 [00:01<00:00, 42.18it/s]"
          ],
          "name": "stderr"
        },
        {
          "output_type": "stream",
          "text": [
            "\n",
            "epoch:  10\n"
          ],
          "name": "stdout"
        },
        {
          "output_type": "stream",
          "text": [
            "\n",
            "100%|██████████| 60/60 [00:01<00:00, 42.63it/s]"
          ],
          "name": "stderr"
        },
        {
          "output_type": "stream",
          "text": [
            "\n",
            "epoch:  11\n"
          ],
          "name": "stdout"
        },
        {
          "output_type": "stream",
          "text": [
            "\n",
            "100%|██████████| 60/60 [00:01<00:00, 42.73it/s]"
          ],
          "name": "stderr"
        },
        {
          "output_type": "stream",
          "text": [
            "\n",
            "epoch:  12\n"
          ],
          "name": "stdout"
        },
        {
          "output_type": "stream",
          "text": [
            "\n",
            "100%|██████████| 60/60 [00:01<00:00, 42.28it/s]"
          ],
          "name": "stderr"
        },
        {
          "output_type": "stream",
          "text": [
            "\n",
            "epoch:  13\n"
          ],
          "name": "stdout"
        },
        {
          "output_type": "stream",
          "text": [
            "\n",
            "100%|██████████| 60/60 [00:01<00:00, 41.32it/s]"
          ],
          "name": "stderr"
        },
        {
          "output_type": "stream",
          "text": [
            "\n",
            "epoch:  14\n"
          ],
          "name": "stdout"
        },
        {
          "output_type": "stream",
          "text": [
            "\n",
            "100%|██████████| 60/60 [00:01<00:00, 40.34it/s]"
          ],
          "name": "stderr"
        },
        {
          "output_type": "stream",
          "text": [
            "\n",
            "epoch:  15\n"
          ],
          "name": "stdout"
        },
        {
          "output_type": "stream",
          "text": [
            "\n",
            "100%|██████████| 60/60 [00:01<00:00, 40.62it/s]"
          ],
          "name": "stderr"
        },
        {
          "output_type": "stream",
          "text": [
            "\n",
            "epoch:  16\n"
          ],
          "name": "stdout"
        },
        {
          "output_type": "stream",
          "text": [
            "\n",
            "100%|██████████| 60/60 [00:01<00:00, 42.86it/s]"
          ],
          "name": "stderr"
        },
        {
          "output_type": "stream",
          "text": [
            "\n",
            "epoch:  17\n"
          ],
          "name": "stdout"
        },
        {
          "output_type": "stream",
          "text": [
            "\n",
            "100%|██████████| 60/60 [00:01<00:00, 39.91it/s]"
          ],
          "name": "stderr"
        },
        {
          "output_type": "stream",
          "text": [
            "\n",
            "epoch:  18\n"
          ],
          "name": "stdout"
        },
        {
          "output_type": "stream",
          "text": [
            "\n",
            "100%|██████████| 60/60 [00:01<00:00, 41.02it/s]"
          ],
          "name": "stderr"
        },
        {
          "output_type": "stream",
          "text": [
            "\n",
            "epoch:  19\n"
          ],
          "name": "stdout"
        },
        {
          "output_type": "stream",
          "text": [
            "\n",
            "100%|██████████| 60/60 [00:01<00:00, 41.11it/s]\n"
          ],
          "name": "stderr"
        },
        {
          "output_type": "display_data",
          "data": {
            "image/png": "[encoded data removed]",
            "text/plain": [
              "<matplotlib.figure.Figure at 0x7f5618a187f0>"
            ]
          },
          "metadata": {
            "tags": []
          }
        }
      ]
    },
    {
      "metadata": {
        "id": "gXMFoX7F1rL-",
        "colab_type": "code",
        "colab": {
          "autoexec": {
            "startup": false,
            "wait_interval": 0
          }
        }
      },
      "cell_type": "code",
      "source": [
        "# Convert the inputs to a Dataset.\n",
        "dataset_test = tf.data.Dataset.from_tensor_slices((test_images, test_labels))\n",
        "# # Shuffle, repeat, and batch the examples.\n",
        "dataset_test = dataset_test.batch(10000)\n",
        "iterator_new = dataset_test.make_one_shot_iterator()\n",
        "next_element2 = iterator_new.get_next()"
      ],
      "execution_count": 0,
      "outputs": []
    },
    {
      "metadata": {
        "id": "74P944uoXJfc",
        "colab_type": "code",
        "colab": {
          "autoexec": {
            "startup": false,
            "wait_interval": 0
          },
          "base_uri": "https://localhost:8080/",
          "height": 34
        },
        "outputId": "3ac8f9c2-4aa4-4628-edd1-cee3d8e9931a",
        "executionInfo": {
          "status": "ok",
          "timestamp": 1529040082825,
          "user_tz": -330,
          "elapsed": 1401,
          "user": {
            "displayName": "Aman Kumar",
            "photoUrl": "//lh4.googleusercontent.com/-JF9QQEBTO2A/AAAAAAAAAAI/AAAAAAAAA8Y/ZTHKpkA2j7E/s50-c-k-no/photo.jpg",
            "userId": "106694825581386080678"
          }
        }
      },
      "cell_type": "code",
      "source": [
        "x ,y = sess.run(next_element2)\n",
        "a = sess.run([accuracy], feed_dict={X_train: x, Y_labels: y})\n",
        "print(\"test accuracy: \", a)"
      ],
      "execution_count": 17,
      "outputs": [
        {
          "output_type": "stream",
          "text": [
            "test accuracy:  [0.9867]\n"
          ],
          "name": "stdout"
        }
      ]
    },
    {
      "metadata": {
        "id": "q-NknEf05KTV",
        "colab_type": "text"
      },
      "cell_type": "markdown",
      "source": [
        "## Save our Session"
      ]
    },
    {
      "metadata": {
        "id": "9pYJU1M15NEe",
        "colab_type": "code",
        "colab": {
          "autoexec": {
            "startup": false,
            "wait_interval": 0
          },
          "base_uri": "https://localhost:8080/",
          "height": 34
        },
        "outputId": "d4d10429-f684-4f6e-b3c2-ad1ece660b82",
        "executionInfo": {
          "status": "ok",
          "timestamp": 1529040320970,
          "user_tz": -330,
          "elapsed": 3145,
          "user": {
            "displayName": "Aman Kumar",
            "photoUrl": "//lh4.googleusercontent.com/-JF9QQEBTO2A/AAAAAAAAAAI/AAAAAAAAA8Y/ZTHKpkA2j7E/s50-c-k-no/photo.jpg",
            "userId": "106694825581386080678"
          }
        }
      },
      "cell_type": "code",
      "source": [
        "saver = tf.train.Saver()\n",
        "\n",
        "save_path = saver.save(sess, \"session/model.ckpt\")\n",
        "print(\"Model saved in path: %s\" % save_path)"
      ],
      "execution_count": 24,
      "outputs": [
        {
          "output_type": "stream",
          "text": [
            "Model saved in path: session/model.ckpt\n"
          ],
          "name": "stdout"
        }
      ]
    },
    {
      "metadata": {
        "id": "xJvny-295mCI",
        "colab_type": "code",
        "colab": {
          "autoexec": {
            "startup": false,
            "wait_interval": 0
          },
          "base_uri": "https://localhost:8080/",
          "height": 102
        },
        "outputId": "57ca6c5c-d12f-4482-c380-e6e60185a7dc",
        "executionInfo": {
          "status": "ok",
          "timestamp": 1529040425805,
          "user_tz": -330,
          "elapsed": 7276,
          "user": {
            "displayName": "Aman Kumar",
            "photoUrl": "//lh4.googleusercontent.com/-JF9QQEBTO2A/AAAAAAAAAAI/AAAAAAAAA8Y/ZTHKpkA2j7E/s50-c-k-no/photo.jpg",
            "userId": "106694825581386080678"
          }
        }
      },
      "cell_type": "code",
      "source": [
        "!zip -r model.zip session"
      ],
      "execution_count": 27,
      "outputs": [
        {
          "output_type": "stream",
          "text": [
            "  adding: session/ (stored 0%)\r\n",
            "  adding: session/model.ckpt.index (deflated 43%)\n",
            "  adding: session/model.ckpt.meta (deflated 92%)\n",
            "  adding: session/checkpoint (deflated 42%)\n",
            "  adding: session/model.ckpt.data-00000-of-00001 (deflated 12%)\n"
          ],
          "name": "stdout"
        }
      ]
    },
    {
      "metadata": {
        "id": "fgnzljbS69zo",
        "colab_type": "text"
      },
      "cell_type": "markdown",
      "source": [
        "## And Download it"
      ]
    },
    {
      "metadata": {
        "id": "HEUv96F26YQK",
        "colab_type": "code",
        "colab": {
          "autoexec": {
            "startup": false,
            "wait_interval": 0
          }
        }
      },
      "cell_type": "code",
      "source": [
        "from google.colab import files\n",
        "files.download('model.zip')"
      ],
      "execution_count": 0,
      "outputs": []
    },
    {
      "metadata": {
        "id": "LQINPKJRPqJk",
        "colab_type": "code",
        "colab": {
          "autoexec": {
            "startup": false,
            "wait_interval": 0
          }
        }
      },
      "cell_type": "code",
      "source": [
        "tf.reset_default_graph()"
      ],
      "execution_count": 0,
      "outputs": []
    },
    {
      "metadata": {
        "id": "254q5xm7MbYC",
        "colab_type": "code",
        "colab": {
          "autoexec": {
            "startup": false,
            "wait_interval": 0
          },
          "base_uri": "https://localhost:8080/",
          "height": 139
        },
        "outputId": "e8368bac-6fff-4679-b501-12f4d9b3e469",
        "executionInfo": {
          "status": "ok",
          "timestamp": 1529039082151,
          "user_tz": -330,
          "elapsed": 9721,
          "user": {
            "displayName": "Aman Kumar",
            "photoUrl": "//lh4.googleusercontent.com/-JF9QQEBTO2A/AAAAAAAAAAI/AAAAAAAAA8Y/ZTHKpkA2j7E/s50-c-k-no/photo.jpg",
            "userId": "106694825581386080678"
          }
        }
      },
      "cell_type": "code",
      "source": [
        "# # memory footprint support libraries/code\n",
        "# !ln -sf /opt/bin/nvidia-smi /usr/bin/nvidia-smi\n",
        "# !pip install gputil\n",
        "# !pip install psutil\n",
        "# !pip install humanize\n",
        "import psutil\n",
        "import humanize\n",
        "import os\n",
        "import GPUtil as GPU\n",
        "GPUs = GPU.getGPUs()\n",
        "# XXX: only one GPU on Colab and isn’t guaranteed\n",
        "gpu = GPUs[0]\n",
        "def printm():\n",
        " process = psutil.Process(os.getpid())\n",
        " print(\"Gen RAM Free: \" + humanize.naturalsize( psutil.virtual_memory().available ), \" | Proc size: \" + humanize.naturalsize( process.memory_info().rss))\n",
        " print(\"GPU RAM Free: {0:.0f}MB | Used: {1:.0f}MB | Util {2:3.0f}% | Total {3:.0f}MB\".format(gpu.memoryFree, gpu.memoryUsed, gpu.memoryUtil*100, gpu.memoryTotal))\n",
        "printm()"
      ],
      "execution_count": 95,
      "outputs": [
        {
          "output_type": "stream",
          "text": [
            "Requirement already satisfied: gputil in /usr/local/lib/python3.6/dist-packages (1.3.0)\r\n",
            "Requirement already satisfied: numpy in /usr/local/lib/python3.6/dist-packages (from gputil) (1.14.3)\n",
            "Requirement already satisfied: psutil in /usr/local/lib/python3.6/dist-packages (5.4.5)\n",
            "Requirement already satisfied: humanize in /usr/local/lib/python3.6/dist-packages (0.5.1)\n",
            "Gen RAM Free: 7.9 GB  | Proc size: 5.2 GB\n",
            "GPU RAM Free: 503MB | Used: 10936MB | Util  96% | Total 11439MB\n"
          ],
          "name": "stdout"
        }
      ]
    }
  ]
}